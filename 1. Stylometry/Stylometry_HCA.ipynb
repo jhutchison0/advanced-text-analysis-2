{
 "cells": [
  {
   "cell_type": "code",
   "execution_count": 2,
   "metadata": {},
   "outputs": [],
   "source": [
    "# Code modified from this Tutorial from Paul Vierthaler:\n",
    "# https://github.com/vierth/humanitiesTutorial/blob/master/22_stylometry1_hca.py\n",
    "\n",
    "# We now have all the pieces we need to start doing stylometry! \n",
    "# Let's import the libraries we will need:\n",
    "\n",
    "import re, nltk, os\n",
    "from pandas import DataFrame\n",
    "import numpy as np\n",
    "\n",
    "# The components for analysis:\n",
    "from sklearn.feature_extraction.text import TfidfVectorizer\n",
    "from sklearn.metrics.pairwise import cosine_similarity, euclidean_distances\n",
    "from scipy.cluster.hierarchy import linkage, dendrogram\n",
    "\n",
    "# The components for viz & pprint\n",
    "import matplotlib.pyplot as plt\n",
    "import seaborn as sns\n",
    "from pprint import pprint"
   ]
  },
  {
   "cell_type": "code",
   "execution_count": 3,
   "metadata": {},
   "outputs": [
    {
     "name": "stdout",
     "output_type": "stream",
     "text": [
      "42\n",
      "['Rom_t',\n",
      " 'Sonnets_x',\n",
      " 'Lucrece_x',\n",
      " 'John_t',\n",
      " 'R3_h',\n",
      " 'H5_h',\n",
      " 'Ant_t',\n",
      " 'JC_t',\n",
      " 'WT_c',\n",
      " 'Tro_c',\n",
      " 'MerchV_c',\n",
      " 'MND_c',\n",
      " 'Ado_c',\n",
      " 'Pericles_x',\n",
      " 'R2_h',\n",
      " 'Mac_t',\n",
      " 'Lear_t',\n",
      " '1H4_h',\n",
      " '1H6_h',\n",
      " 'VenusAdonis_x',\n",
      " 'LLL_c',\n",
      " 'Ham_t',\n",
      " 'H8_h',\n",
      " 'Tmp_c',\n",
      " 'Err_c',\n",
      " 'Wiv_c',\n",
      " 'TN_c',\n",
      " 'M4M_c',\n",
      " '2H6_h',\n",
      " 'AYL_c',\n",
      " 'TGV_c',\n",
      " 'Shr_c',\n",
      " '2H4_h',\n",
      " 'AWW_c',\n",
      " 'Cym_t',\n",
      " 'Cor_t',\n",
      " 'Tim_t',\n",
      " 'PhxTur_x',\n",
      " 'TNK_x',\n",
      " '3H6_h',\n",
      " 'Tit_t',\n",
      " 'Oth_t']\n"
     ]
    }
   ],
   "source": [
    "# Let's load the texts in from the corpus folder we created earlier.\n",
    "# Let's add a set that contains files we want to ignore (useful if there is a\n",
    "# license file, a readme, or some metafile you want to ignore)\n",
    "\n",
    "# Input folder\n",
    "corpusFolder = \"../corpus\"\n",
    "ignoreFiles = set([\".DS_Store\",\"LICENSE\",\"README.md\"])\n",
    "\n",
    "# The vectorizor object wants a list of texts, so we will prepare one for it\n",
    "sTexts = []\n",
    "sTitles = []\n",
    "for root, dirs, files in os.walk(corpusFolder):\n",
    "    for filename in files:\n",
    "        if filename not in ignoreFiles:\n",
    "            with open(os.path.join(root,filename)) as rf:\n",
    "                sTexts.append(rf.read().lower())\n",
    "                sTitles.append(filename[:-4])\n",
    "\n",
    "# This is where you would then manipulate your corpus if you choose:\n",
    "# Remove stopwords and/or punctuation, remove common words, lowercase all, etc etc.\n",
    "import spacy\n",
    "nlp = spacy.load('en_core_web_lg', disable = ['ner', 'parser', 'textcat'])\n",
    "slTexts = []\n",
    "spacy_lemmas = []\n",
    "for text in sTexts:\n",
    "    spacy_tokens = nlp(text)\n",
    "    for token in spacy_tokens:\n",
    "        spacy_lemmas.append(token.lemma_)\n",
    "    slText = ' '.join(spacy_lemmas)    \n",
    "    slTexts.append(slText)\n",
    "                \n",
    "print(len(sTexts))\n",
    "pprint(sTitles)"
   ]
  },
  {
   "cell_type": "code",
   "execution_count": 8,
   "metadata": {},
   "outputs": [],
   "source": [
    "# check the sources\n",
    "#print(slTexts[0])\n",
    "#print(sTexts[0])"
   ]
  },
  {
   "cell_type": "code",
   "execution_count": 10,
   "metadata": {},
   "outputs": [],
   "source": [
    "# Get the frequencies of the 1000 most common TF (without IDF) [=ngrams] in the corpus \n",
    "countVectorizer = TfidfVectorizer(max_features=1000, use_idf=False)\n",
    "countMatrix = countVectorizer.fit_transform(slTexts)\n"
   ]
  },
  {
   "cell_type": "code",
   "execution_count": 11,
   "metadata": {},
   "outputs": [],
   "source": [
    "# We can measure the distances between all of these documents using a variety of metrics.\n",
    "# There are many assumptions these distance metrics make (and some might be better than others).\n",
    "similarity = euclidean_distances(countMatrix)"
   ]
  },
  {
   "cell_type": "code",
   "execution_count": 12,
   "metadata": {},
   "outputs": [
    {
     "name": "stderr",
     "output_type": "stream",
     "text": [
      "/Users/tharsen/anaconda3/lib/python3.6/site-packages/ipykernel_launcher.py:6: ClusterWarning: scipy.cluster: The symmetric non-negative hollow observation matrix looks suspiciously like an uncondensed distance matrix\n",
      "  \n"
     ]
    }
   ],
   "source": [
    "# We can group these documents together based on which ones are closest \n",
    "# together using Hierarchical Cluster Analysis. Here we use the \"Ward\" algorithm.\n",
    "# \n",
    "# See https://docs.scipy.org/doc/scipy/reference/generated/scipy.cluster.hierarchy.linkage.html for\n",
    "# documentation of other HCA models, e.g. 'single', 'complete', 'weighted', and 'median'.\n",
    "linkages = linkage(similarity,'ward')"
   ]
  },
  {
   "cell_type": "code",
   "execution_count": 13,
   "metadata": {},
   "outputs": [
    {
     "data": {
      "image/png": "[encoded data removed]",
      "text/plain": [
       "<Figure size 432x288 with 1 Axes>"
      ]
     },
     "metadata": {
      "needs_background": "light"
     },
     "output_type": "display_data"
    }
   ],
   "source": [
    "f = plt.figure()\n",
    "\n",
    "# Here we will use scipy's dendogram function (which we imported) to plot this:\n",
    "dendr = dendrogram(linkages, labels=sTitles, leaf_font_size=4) #orientation=\"right\",\n",
    "\n",
    "# We'll adjust the plot a bit to make it better\n",
    "plt.tick_params(axis='x', which='both')  #, bottom=False, top=False, labelbottom=False)\n",
    "\n",
    "# This will prevent the labels from going off the figure\n",
    "plt.tight_layout()\n",
    "\n",
    "for i, d in zip(dendr['icoord'], dendr['dcoord']):\n",
    "            x = 0.5 * sum(i[1:3])\n",
    "            y = d[1]\n",
    "            plt.plot(x, y) #, 'ro')\n",
    "            plt.annotate(\"%.3g\" % y, (x, y), xytext=(0, -1),\n",
    "                         textcoords='offset points',\n",
    "                         va='top', ha='center', fontsize=3, fontweight='bold')\n",
    "\n",
    "plt.show()\n",
    "\n",
    "f.savefig(\"dendrogram.pdf\", bbox_inches='tight')"
   ]
  },
  {
   "cell_type": "code",
   "execution_count": 14,
   "metadata": {},
   "outputs": [],
   "source": [
    "#pprint(dendr)"
   ]
  },
  {
   "cell_type": "code",
   "execution_count": 15,
   "metadata": {},
   "outputs": [
    {
     "name": "stderr",
     "output_type": "stream",
     "text": [
      "/Users/tharsen/anaconda3/lib/python3.6/site-packages/seaborn/matrix.py:603: ClusterWarning: scipy.cluster: The symmetric non-negative hollow observation matrix looks suspiciously like an uncondensed distance matrix\n",
      "  metric=self.metric)\n",
      "/Users/tharsen/anaconda3/lib/python3.6/site-packages/seaborn/matrix.py:603: ClusterWarning: scipy.cluster: The symmetric non-negative hollow observation matrix looks suspiciously like an uncondensed distance matrix\n",
      "  metric=self.metric)\n"
     ]
    },
    {
     "data": {
      "image/png": "[encoded data removed]",
      "text/plain": [
       "<Figure size 720x720 with 4 Axes>"
      ]
     },
     "metadata": {
      "needs_background": "light"
     },
     "output_type": "display_data"
    }
   ],
   "source": [
    "# Finally, let's visualize our raw similarity matrices as a clustermap (heatmap) + dendograms on the axes\n",
    "# Note that these results are from the ZZ of the linkages, not the Ward algorithm.\n",
    "g = sns.clustermap(similarity, method='ward') #, metric='correlation')\n",
    "g.savefig(\"clustermap.pdf\", bbox_inches='tight')"
   ]
  },
  {
   "cell_type": "code",
   "execution_count": null,
   "metadata": {},
   "outputs": [],
   "source": []
  }
 ],
 "metadata": {
  "kernelspec": {
   "display_name": "Python 3",
   "language": "python",
   "name": "python3"
  },
  "language_info": {
   "codemirror_mode": {
    "name": "ipython",
    "version": 3
   },
   "file_extension": ".py",
   "mimetype": "text/x-python",
   "name": "python",
   "nbconvert_exporter": "python",
   "pygments_lexer": "ipython3",
   "version": "3.6.13"
  }
 },
 "nbformat": 4,
 "nbformat_minor": 2
}
